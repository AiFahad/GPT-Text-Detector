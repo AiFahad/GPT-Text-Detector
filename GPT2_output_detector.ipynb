{
  "nbformat": 4,
  "nbformat_minor": 0,
  "metadata": {
    "colab": {
      "provenance": []
    },
    "kernelspec": {
      "name": "python3",
      "display_name": "Python 3"
    },
    "language_info": {
      "name": "python"
    },
    "widgets": {
      "application/vnd.jupyter.widget-state+json": {
        "6d5b86be22804a709bea5934dc9a9054": {
          "model_module": "@jupyter-widgets/controls",
          "model_name": "HBoxModel",
          "model_module_version": "1.5.0",
          "state": {
            "_dom_classes": [],
            "_model_module": "@jupyter-widgets/controls",
            "_model_module_version": "1.5.0",
            "_model_name": "HBoxModel",
            "_view_count": null,
            "_view_module": "@jupyter-widgets/controls",
            "_view_module_version": "1.5.0",
            "_view_name": "HBoxView",
            "box_style": "",
            "children": [
              "IPY_MODEL_1a96132e32a345a4afd14a2d71b11338",
              "IPY_MODEL_332c367f3a4440bab29456d28de46de6",
              "IPY_MODEL_81dcb0badf6d4d1ab2b55c0a1fe637cd"
            ],
            "layout": "IPY_MODEL_5b9fd41d4f934d9daa370079ff880476"
          }
        },
        "1a96132e32a345a4afd14a2d71b11338": {
          "model_module": "@jupyter-widgets/controls",
          "model_name": "HTMLModel",
          "model_module_version": "1.5.0",
          "state": {
            "_dom_classes": [],
            "_model_module": "@jupyter-widgets/controls",
            "_model_module_version": "1.5.0",
            "_model_name": "HTMLModel",
            "_view_count": null,
            "_view_module": "@jupyter-widgets/controls",
            "_view_module_version": "1.5.0",
            "_view_name": "HTMLView",
            "description": "",
            "description_tooltip": null,
            "layout": "IPY_MODEL_6c4215e408f5418884e8bf749e4655e4",
            "placeholder": "​",
            "style": "IPY_MODEL_f886c55033cb4103982c3b4161e1cd67",
            "value": "Downloading (…)lve/main/config.json: 100%"
          }
        },
        "332c367f3a4440bab29456d28de46de6": {
          "model_module": "@jupyter-widgets/controls",
          "model_name": "FloatProgressModel",
          "model_module_version": "1.5.0",
          "state": {
            "_dom_classes": [],
            "_model_module": "@jupyter-widgets/controls",
            "_model_module_version": "1.5.0",
            "_model_name": "FloatProgressModel",
            "_view_count": null,
            "_view_module": "@jupyter-widgets/controls",
            "_view_module_version": "1.5.0",
            "_view_name": "ProgressView",
            "bar_style": "success",
            "description": "",
            "description_tooltip": null,
            "layout": "IPY_MODEL_7210849448ff4ddfb50b001313771d08",
            "max": 482,
            "min": 0,
            "orientation": "horizontal",
            "style": "IPY_MODEL_41222e19a6b9430a91a0c6ec5e202db3",
            "value": 482
          }
        },
        "81dcb0badf6d4d1ab2b55c0a1fe637cd": {
          "model_module": "@jupyter-widgets/controls",
          "model_name": "HTMLModel",
          "model_module_version": "1.5.0",
          "state": {
            "_dom_classes": [],
            "_model_module": "@jupyter-widgets/controls",
            "_model_module_version": "1.5.0",
            "_model_name": "HTMLModel",
            "_view_count": null,
            "_view_module": "@jupyter-widgets/controls",
            "_view_module_version": "1.5.0",
            "_view_name": "HTMLView",
            "description": "",
            "description_tooltip": null,
            "layout": "IPY_MODEL_54145fa7965b434382d5f2d5f4b4c55c",
            "placeholder": "​",
            "style": "IPY_MODEL_f82f11e2ed804dcaa548897f40cc4e9a",
            "value": " 482/482 [00:00&lt;00:00, 19.0kB/s]"
          }
        },
        "5b9fd41d4f934d9daa370079ff880476": {
          "model_module": "@jupyter-widgets/base",
          "model_name": "LayoutModel",
          "model_module_version": "1.2.0",
          "state": {
            "_model_module": "@jupyter-widgets/base",
            "_model_module_version": "1.2.0",
            "_model_name": "LayoutModel",
            "_view_count": null,
            "_view_module": "@jupyter-widgets/base",
            "_view_module_version": "1.2.0",
            "_view_name": "LayoutView",
            "align_content": null,
            "align_items": null,
            "align_self": null,
            "border": null,
            "bottom": null,
            "display": null,
            "flex": null,
            "flex_flow": null,
            "grid_area": null,
            "grid_auto_columns": null,
            "grid_auto_flow": null,
            "grid_auto_rows": null,
            "grid_column": null,
            "grid_gap": null,
            "grid_row": null,
            "grid_template_areas": null,
            "grid_template_columns": null,
            "grid_template_rows": null,
            "height": null,
            "justify_content": null,
            "justify_items": null,
            "left": null,
            "margin": null,
            "max_height": null,
            "max_width": null,
            "min_height": null,
            "min_width": null,
            "object_fit": null,
            "object_position": null,
            "order": null,
            "overflow": null,
            "overflow_x": null,
            "overflow_y": null,
            "padding": null,
            "right": null,
            "top": null,
            "visibility": null,
            "width": null
          }
        },
        "6c4215e408f5418884e8bf749e4655e4": {
          "model_module": "@jupyter-widgets/base",
          "model_name": "LayoutModel",
          "model_module_version": "1.2.0",
          "state": {
            "_model_module": "@jupyter-widgets/base",
            "_model_module_version": "1.2.0",
            "_model_name": "LayoutModel",
            "_view_count": null,
            "_view_module": "@jupyter-widgets/base",
            "_view_module_version": "1.2.0",
            "_view_name": "LayoutView",
            "align_content": null,
            "align_items": null,
            "align_self": null,
            "border": null,
            "bottom": null,
            "display": null,
            "flex": null,
            "flex_flow": null,
            "grid_area": null,
            "grid_auto_columns": null,
            "grid_auto_flow": null,
            "grid_auto_rows": null,
            "grid_column": null,
            "grid_gap": null,
            "grid_row": null,
            "grid_template_areas": null,
            "grid_template_columns": null,
            "grid_template_rows": null,
            "height": null,
            "justify_content": null,
            "justify_items": null,
            "left": null,
            "margin": null,
            "max_height": null,
            "max_width": null,
            "min_height": null,
            "min_width": null,
            "object_fit": null,
            "object_position": null,
            "order": null,
            "overflow": null,
            "overflow_x": null,
            "overflow_y": null,
            "padding": null,
            "right": null,
            "top": null,
            "visibility": null,
            "width": null
          }
        },
        "f886c55033cb4103982c3b4161e1cd67": {
          "model_module": "@jupyter-widgets/controls",
          "model_name": "DescriptionStyleModel",
          "model_module_version": "1.5.0",
          "state": {
            "_model_module": "@jupyter-widgets/controls",
            "_model_module_version": "1.5.0",
            "_model_name": "DescriptionStyleModel",
            "_view_count": null,
            "_view_module": "@jupyter-widgets/base",
            "_view_module_version": "1.2.0",
            "_view_name": "StyleView",
            "description_width": ""
          }
        },
        "7210849448ff4ddfb50b001313771d08": {
          "model_module": "@jupyter-widgets/base",
          "model_name": "LayoutModel",
          "model_module_version": "1.2.0",
          "state": {
            "_model_module": "@jupyter-widgets/base",
            "_model_module_version": "1.2.0",
            "_model_name": "LayoutModel",
            "_view_count": null,
            "_view_module": "@jupyter-widgets/base",
            "_view_module_version": "1.2.0",
            "_view_name": "LayoutView",
            "align_content": null,
            "align_items": null,
            "align_self": null,
            "border": null,
            "bottom": null,
            "display": null,
            "flex": null,
            "flex_flow": null,
            "grid_area": null,
            "grid_auto_columns": null,
            "grid_auto_flow": null,
            "grid_auto_rows": null,
            "grid_column": null,
            "grid_gap": null,
            "grid_row": null,
            "grid_template_areas": null,
            "grid_template_columns": null,
            "grid_template_rows": null,
            "height": null,
            "justify_content": null,
            "justify_items": null,
            "left": null,
            "margin": null,
            "max_height": null,
            "max_width": null,
            "min_height": null,
            "min_width": null,
            "object_fit": null,
            "object_position": null,
            "order": null,
            "overflow": null,
            "overflow_x": null,
            "overflow_y": null,
            "padding": null,
            "right": null,
            "top": null,
            "visibility": null,
            "width": null
          }
        },
        "41222e19a6b9430a91a0c6ec5e202db3": {
          "model_module": "@jupyter-widgets/controls",
          "model_name": "ProgressStyleModel",
          "model_module_version": "1.5.0",
          "state": {
            "_model_module": "@jupyter-widgets/controls",
            "_model_module_version": "1.5.0",
            "_model_name": "ProgressStyleModel",
            "_view_count": null,
            "_view_module": "@jupyter-widgets/base",
            "_view_module_version": "1.2.0",
            "_view_name": "StyleView",
            "bar_color": null,
            "description_width": ""
          }
        },
        "54145fa7965b434382d5f2d5f4b4c55c": {
          "model_module": "@jupyter-widgets/base",
          "model_name": "LayoutModel",
          "model_module_version": "1.2.0",
          "state": {
            "_model_module": "@jupyter-widgets/base",
            "_model_module_version": "1.2.0",
            "_model_name": "LayoutModel",
            "_view_count": null,
            "_view_module": "@jupyter-widgets/base",
            "_view_module_version": "1.2.0",
            "_view_name": "LayoutView",
            "align_content": null,
            "align_items": null,
            "align_self": null,
            "border": null,
            "bottom": null,
            "display": null,
            "flex": null,
            "flex_flow": null,
            "grid_area": null,
            "grid_auto_columns": null,
            "grid_auto_flow": null,
            "grid_auto_rows": null,
            "grid_column": null,
            "grid_gap": null,
            "grid_row": null,
            "grid_template_areas": null,
            "grid_template_columns": null,
            "grid_template_rows": null,
            "height": null,
            "justify_content": null,
            "justify_items": null,
            "left": null,
            "margin": null,
            "max_height": null,
            "max_width": null,
            "min_height": null,
            "min_width": null,
            "object_fit": null,
            "object_position": null,
            "order": null,
            "overflow": null,
            "overflow_x": null,
            "overflow_y": null,
            "padding": null,
            "right": null,
            "top": null,
            "visibility": null,
            "width": null
          }
        },
        "f82f11e2ed804dcaa548897f40cc4e9a": {
          "model_module": "@jupyter-widgets/controls",
          "model_name": "DescriptionStyleModel",
          "model_module_version": "1.5.0",
          "state": {
            "_model_module": "@jupyter-widgets/controls",
            "_model_module_version": "1.5.0",
            "_model_name": "DescriptionStyleModel",
            "_view_count": null,
            "_view_module": "@jupyter-widgets/base",
            "_view_module_version": "1.2.0",
            "_view_name": "StyleView",
            "description_width": ""
          }
        },
        "d40c29711d8e4b70b46eaeb7d54424b6": {
          "model_module": "@jupyter-widgets/controls",
          "model_name": "HBoxModel",
          "model_module_version": "1.5.0",
          "state": {
            "_dom_classes": [],
            "_model_module": "@jupyter-widgets/controls",
            "_model_module_version": "1.5.0",
            "_model_name": "HBoxModel",
            "_view_count": null,
            "_view_module": "@jupyter-widgets/controls",
            "_view_module_version": "1.5.0",
            "_view_name": "HBoxView",
            "box_style": "",
            "children": [
              "IPY_MODEL_80e0e718c52743be844ce48d875a8d7d",
              "IPY_MODEL_c6b9a2b1039c4cd885587a258d921bfb",
              "IPY_MODEL_623bb74efda044b2ab044a1016104607"
            ],
            "layout": "IPY_MODEL_9d621ba515bc4f48ae8add06f9263b24"
          }
        },
        "80e0e718c52743be844ce48d875a8d7d": {
          "model_module": "@jupyter-widgets/controls",
          "model_name": "HTMLModel",
          "model_module_version": "1.5.0",
          "state": {
            "_dom_classes": [],
            "_model_module": "@jupyter-widgets/controls",
            "_model_module_version": "1.5.0",
            "_model_name": "HTMLModel",
            "_view_count": null,
            "_view_module": "@jupyter-widgets/controls",
            "_view_module_version": "1.5.0",
            "_view_name": "HTMLView",
            "description": "",
            "description_tooltip": null,
            "layout": "IPY_MODEL_001f51abdce043fd8a1027600041e54d",
            "placeholder": "​",
            "style": "IPY_MODEL_2be2e322107643efa033b1d2ce50669b",
            "value": "Downloading model.safetensors: 100%"
          }
        },
        "c6b9a2b1039c4cd885587a258d921bfb": {
          "model_module": "@jupyter-widgets/controls",
          "model_name": "FloatProgressModel",
          "model_module_version": "1.5.0",
          "state": {
            "_dom_classes": [],
            "_model_module": "@jupyter-widgets/controls",
            "_model_module_version": "1.5.0",
            "_model_name": "FloatProgressModel",
            "_view_count": null,
            "_view_module": "@jupyter-widgets/controls",
            "_view_module_version": "1.5.0",
            "_view_name": "ProgressView",
            "bar_style": "success",
            "description": "",
            "description_tooltip": null,
            "layout": "IPY_MODEL_c518a50cbb614b31bf66f2cc482285e5",
            "max": 1421700479,
            "min": 0,
            "orientation": "horizontal",
            "style": "IPY_MODEL_e4c29025b670405c8e5246f6c712d53a",
            "value": 1421700479
          }
        },
        "623bb74efda044b2ab044a1016104607": {
          "model_module": "@jupyter-widgets/controls",
          "model_name": "HTMLModel",
          "model_module_version": "1.5.0",
          "state": {
            "_dom_classes": [],
            "_model_module": "@jupyter-widgets/controls",
            "_model_module_version": "1.5.0",
            "_model_name": "HTMLModel",
            "_view_count": null,
            "_view_module": "@jupyter-widgets/controls",
            "_view_module_version": "1.5.0",
            "_view_name": "HTMLView",
            "description": "",
            "description_tooltip": null,
            "layout": "IPY_MODEL_0b65365b58314bb7a6a67f790d1e245a",
            "placeholder": "​",
            "style": "IPY_MODEL_b160f64cb44c421fa19c5a93c65b79e0",
            "value": " 1.42G/1.42G [00:17&lt;00:00, 83.4MB/s]"
          }
        },
        "9d621ba515bc4f48ae8add06f9263b24": {
          "model_module": "@jupyter-widgets/base",
          "model_name": "LayoutModel",
          "model_module_version": "1.2.0",
          "state": {
            "_model_module": "@jupyter-widgets/base",
            "_model_module_version": "1.2.0",
            "_model_name": "LayoutModel",
            "_view_count": null,
            "_view_module": "@jupyter-widgets/base",
            "_view_module_version": "1.2.0",
            "_view_name": "LayoutView",
            "align_content": null,
            "align_items": null,
            "align_self": null,
            "border": null,
            "bottom": null,
            "display": null,
            "flex": null,
            "flex_flow": null,
            "grid_area": null,
            "grid_auto_columns": null,
            "grid_auto_flow": null,
            "grid_auto_rows": null,
            "grid_column": null,
            "grid_gap": null,
            "grid_row": null,
            "grid_template_areas": null,
            "grid_template_columns": null,
            "grid_template_rows": null,
            "height": null,
            "justify_content": null,
            "justify_items": null,
            "left": null,
            "margin": null,
            "max_height": null,
            "max_width": null,
            "min_height": null,
            "min_width": null,
            "object_fit": null,
            "object_position": null,
            "order": null,
            "overflow": null,
            "overflow_x": null,
            "overflow_y": null,
            "padding": null,
            "right": null,
            "top": null,
            "visibility": null,
            "width": null
          }
        },
        "001f51abdce043fd8a1027600041e54d": {
          "model_module": "@jupyter-widgets/base",
          "model_name": "LayoutModel",
          "model_module_version": "1.2.0",
          "state": {
            "_model_module": "@jupyter-widgets/base",
            "_model_module_version": "1.2.0",
            "_model_name": "LayoutModel",
            "_view_count": null,
            "_view_module": "@jupyter-widgets/base",
            "_view_module_version": "1.2.0",
            "_view_name": "LayoutView",
            "align_content": null,
            "align_items": null,
            "align_self": null,
            "border": null,
            "bottom": null,
            "display": null,
            "flex": null,
            "flex_flow": null,
            "grid_area": null,
            "grid_auto_columns": null,
            "grid_auto_flow": null,
            "grid_auto_rows": null,
            "grid_column": null,
            "grid_gap": null,
            "grid_row": null,
            "grid_template_areas": null,
            "grid_template_columns": null,
            "grid_template_rows": null,
            "height": null,
            "justify_content": null,
            "justify_items": null,
            "left": null,
            "margin": null,
            "max_height": null,
            "max_width": null,
            "min_height": null,
            "min_width": null,
            "object_fit": null,
            "object_position": null,
            "order": null,
            "overflow": null,
            "overflow_x": null,
            "overflow_y": null,
            "padding": null,
            "right": null,
            "top": null,
            "visibility": null,
            "width": null
          }
        },
        "2be2e322107643efa033b1d2ce50669b": {
          "model_module": "@jupyter-widgets/controls",
          "model_name": "DescriptionStyleModel",
          "model_module_version": "1.5.0",
          "state": {
            "_model_module": "@jupyter-widgets/controls",
            "_model_module_version": "1.5.0",
            "_model_name": "DescriptionStyleModel",
            "_view_count": null,
            "_view_module": "@jupyter-widgets/base",
            "_view_module_version": "1.2.0",
            "_view_name": "StyleView",
            "description_width": ""
          }
        },
        "c518a50cbb614b31bf66f2cc482285e5": {
          "model_module": "@jupyter-widgets/base",
          "model_name": "LayoutModel",
          "model_module_version": "1.2.0",
          "state": {
            "_model_module": "@jupyter-widgets/base",
            "_model_module_version": "1.2.0",
            "_model_name": "LayoutModel",
            "_view_count": null,
            "_view_module": "@jupyter-widgets/base",
            "_view_module_version": "1.2.0",
            "_view_name": "LayoutView",
            "align_content": null,
            "align_items": null,
            "align_self": null,
            "border": null,
            "bottom": null,
            "display": null,
            "flex": null,
            "flex_flow": null,
            "grid_area": null,
            "grid_auto_columns": null,
            "grid_auto_flow": null,
            "grid_auto_rows": null,
            "grid_column": null,
            "grid_gap": null,
            "grid_row": null,
            "grid_template_areas": null,
            "grid_template_columns": null,
            "grid_template_rows": null,
            "height": null,
            "justify_content": null,
            "justify_items": null,
            "left": null,
            "margin": null,
            "max_height": null,
            "max_width": null,
            "min_height": null,
            "min_width": null,
            "object_fit": null,
            "object_position": null,
            "order": null,
            "overflow": null,
            "overflow_x": null,
            "overflow_y": null,
            "padding": null,
            "right": null,
            "top": null,
            "visibility": null,
            "width": null
          }
        },
        "e4c29025b670405c8e5246f6c712d53a": {
          "model_module": "@jupyter-widgets/controls",
          "model_name": "ProgressStyleModel",
          "model_module_version": "1.5.0",
          "state": {
            "_model_module": "@jupyter-widgets/controls",
            "_model_module_version": "1.5.0",
            "_model_name": "ProgressStyleModel",
            "_view_count": null,
            "_view_module": "@jupyter-widgets/base",
            "_view_module_version": "1.2.0",
            "_view_name": "StyleView",
            "bar_color": null,
            "description_width": ""
          }
        },
        "0b65365b58314bb7a6a67f790d1e245a": {
          "model_module": "@jupyter-widgets/base",
          "model_name": "LayoutModel",
          "model_module_version": "1.2.0",
          "state": {
            "_model_module": "@jupyter-widgets/base",
            "_model_module_version": "1.2.0",
            "_model_name": "LayoutModel",
            "_view_count": null,
            "_view_module": "@jupyter-widgets/base",
            "_view_module_version": "1.2.0",
            "_view_name": "LayoutView",
            "align_content": null,
            "align_items": null,
            "align_self": null,
            "border": null,
            "bottom": null,
            "display": null,
            "flex": null,
            "flex_flow": null,
            "grid_area": null,
            "grid_auto_columns": null,
            "grid_auto_flow": null,
            "grid_auto_rows": null,
            "grid_column": null,
            "grid_gap": null,
            "grid_row": null,
            "grid_template_areas": null,
            "grid_template_columns": null,
            "grid_template_rows": null,
            "height": null,
            "justify_content": null,
            "justify_items": null,
            "left": null,
            "margin": null,
            "max_height": null,
            "max_width": null,
            "min_height": null,
            "min_width": null,
            "object_fit": null,
            "object_position": null,
            "order": null,
            "overflow": null,
            "overflow_x": null,
            "overflow_y": null,
            "padding": null,
            "right": null,
            "top": null,
            "visibility": null,
            "width": null
          }
        },
        "b160f64cb44c421fa19c5a93c65b79e0": {
          "model_module": "@jupyter-widgets/controls",
          "model_name": "DescriptionStyleModel",
          "model_module_version": "1.5.0",
          "state": {
            "_model_module": "@jupyter-widgets/controls",
            "_model_module_version": "1.5.0",
            "_model_name": "DescriptionStyleModel",
            "_view_count": null,
            "_view_module": "@jupyter-widgets/base",
            "_view_module_version": "1.2.0",
            "_view_name": "StyleView",
            "description_width": ""
          }
        },
        "2c0251b4059c482599958a7e5014cd5c": {
          "model_module": "@jupyter-widgets/controls",
          "model_name": "HBoxModel",
          "model_module_version": "1.5.0",
          "state": {
            "_dom_classes": [],
            "_model_module": "@jupyter-widgets/controls",
            "_model_module_version": "1.5.0",
            "_model_name": "HBoxModel",
            "_view_count": null,
            "_view_module": "@jupyter-widgets/controls",
            "_view_module_version": "1.5.0",
            "_view_name": "HBoxView",
            "box_style": "",
            "children": [
              "IPY_MODEL_de35f72c076e4957866df681a95444b5",
              "IPY_MODEL_5df86baa619941378a40e7f0c6d7cfaf",
              "IPY_MODEL_4e59dfb84af349d6a2fc46d5c6815228"
            ],
            "layout": "IPY_MODEL_cba29157322746338373edb4f17d1c36"
          }
        },
        "de35f72c076e4957866df681a95444b5": {
          "model_module": "@jupyter-widgets/controls",
          "model_name": "HTMLModel",
          "model_module_version": "1.5.0",
          "state": {
            "_dom_classes": [],
            "_model_module": "@jupyter-widgets/controls",
            "_model_module_version": "1.5.0",
            "_model_name": "HTMLModel",
            "_view_count": null,
            "_view_module": "@jupyter-widgets/controls",
            "_view_module_version": "1.5.0",
            "_view_name": "HTMLView",
            "description": "",
            "description_tooltip": null,
            "layout": "IPY_MODEL_cfb6cc20851049e5931967c706a5d3a0",
            "placeholder": "​",
            "style": "IPY_MODEL_744492f621074fb0bcbea2177e21f246",
            "value": "Downloading (…)olve/main/vocab.json: 100%"
          }
        },
        "5df86baa619941378a40e7f0c6d7cfaf": {
          "model_module": "@jupyter-widgets/controls",
          "model_name": "FloatProgressModel",
          "model_module_version": "1.5.0",
          "state": {
            "_dom_classes": [],
            "_model_module": "@jupyter-widgets/controls",
            "_model_module_version": "1.5.0",
            "_model_name": "FloatProgressModel",
            "_view_count": null,
            "_view_module": "@jupyter-widgets/controls",
            "_view_module_version": "1.5.0",
            "_view_name": "ProgressView",
            "bar_style": "success",
            "description": "",
            "description_tooltip": null,
            "layout": "IPY_MODEL_4b892246709c4ec38e4616b55cae5b8b",
            "max": 898823,
            "min": 0,
            "orientation": "horizontal",
            "style": "IPY_MODEL_b593ae3e16eb4220a39d00ba695a47cd",
            "value": 898823
          }
        },
        "4e59dfb84af349d6a2fc46d5c6815228": {
          "model_module": "@jupyter-widgets/controls",
          "model_name": "HTMLModel",
          "model_module_version": "1.5.0",
          "state": {
            "_dom_classes": [],
            "_model_module": "@jupyter-widgets/controls",
            "_model_module_version": "1.5.0",
            "_model_name": "HTMLModel",
            "_view_count": null,
            "_view_module": "@jupyter-widgets/controls",
            "_view_module_version": "1.5.0",
            "_view_name": "HTMLView",
            "description": "",
            "description_tooltip": null,
            "layout": "IPY_MODEL_7bd18262fca647698dc40165d3237fe5",
            "placeholder": "​",
            "style": "IPY_MODEL_fbf13b0d7ec147b58589424949a322c7",
            "value": " 899k/899k [00:00&lt;00:00, 6.77MB/s]"
          }
        },
        "cba29157322746338373edb4f17d1c36": {
          "model_module": "@jupyter-widgets/base",
          "model_name": "LayoutModel",
          "model_module_version": "1.2.0",
          "state": {
            "_model_module": "@jupyter-widgets/base",
            "_model_module_version": "1.2.0",
            "_model_name": "LayoutModel",
            "_view_count": null,
            "_view_module": "@jupyter-widgets/base",
            "_view_module_version": "1.2.0",
            "_view_name": "LayoutView",
            "align_content": null,
            "align_items": null,
            "align_self": null,
            "border": null,
            "bottom": null,
            "display": null,
            "flex": null,
            "flex_flow": null,
            "grid_area": null,
            "grid_auto_columns": null,
            "grid_auto_flow": null,
            "grid_auto_rows": null,
            "grid_column": null,
            "grid_gap": null,
            "grid_row": null,
            "grid_template_areas": null,
            "grid_template_columns": null,
            "grid_template_rows": null,
            "height": null,
            "justify_content": null,
            "justify_items": null,
            "left": null,
            "margin": null,
            "max_height": null,
            "max_width": null,
            "min_height": null,
            "min_width": null,
            "object_fit": null,
            "object_position": null,
            "order": null,
            "overflow": null,
            "overflow_x": null,
            "overflow_y": null,
            "padding": null,
            "right": null,
            "top": null,
            "visibility": null,
            "width": null
          }
        },
        "cfb6cc20851049e5931967c706a5d3a0": {
          "model_module": "@jupyter-widgets/base",
          "model_name": "LayoutModel",
          "model_module_version": "1.2.0",
          "state": {
            "_model_module": "@jupyter-widgets/base",
            "_model_module_version": "1.2.0",
            "_model_name": "LayoutModel",
            "_view_count": null,
            "_view_module": "@jupyter-widgets/base",
            "_view_module_version": "1.2.0",
            "_view_name": "LayoutView",
            "align_content": null,
            "align_items": null,
            "align_self": null,
            "border": null,
            "bottom": null,
            "display": null,
            "flex": null,
            "flex_flow": null,
            "grid_area": null,
            "grid_auto_columns": null,
            "grid_auto_flow": null,
            "grid_auto_rows": null,
            "grid_column": null,
            "grid_gap": null,
            "grid_row": null,
            "grid_template_areas": null,
            "grid_template_columns": null,
            "grid_template_rows": null,
            "height": null,
            "justify_content": null,
            "justify_items": null,
            "left": null,
            "margin": null,
            "max_height": null,
            "max_width": null,
            "min_height": null,
            "min_width": null,
            "object_fit": null,
            "object_position": null,
            "order": null,
            "overflow": null,
            "overflow_x": null,
            "overflow_y": null,
            "padding": null,
            "right": null,
            "top": null,
            "visibility": null,
            "width": null
          }
        },
        "744492f621074fb0bcbea2177e21f246": {
          "model_module": "@jupyter-widgets/controls",
          "model_name": "DescriptionStyleModel",
          "model_module_version": "1.5.0",
          "state": {
            "_model_module": "@jupyter-widgets/controls",
            "_model_module_version": "1.5.0",
            "_model_name": "DescriptionStyleModel",
            "_view_count": null,
            "_view_module": "@jupyter-widgets/base",
            "_view_module_version": "1.2.0",
            "_view_name": "StyleView",
            "description_width": ""
          }
        },
        "4b892246709c4ec38e4616b55cae5b8b": {
          "model_module": "@jupyter-widgets/base",
          "model_name": "LayoutModel",
          "model_module_version": "1.2.0",
          "state": {
            "_model_module": "@jupyter-widgets/base",
            "_model_module_version": "1.2.0",
            "_model_name": "LayoutModel",
            "_view_count": null,
            "_view_module": "@jupyter-widgets/base",
            "_view_module_version": "1.2.0",
            "_view_name": "LayoutView",
            "align_content": null,
            "align_items": null,
            "align_self": null,
            "border": null,
            "bottom": null,
            "display": null,
            "flex": null,
            "flex_flow": null,
            "grid_area": null,
            "grid_auto_columns": null,
            "grid_auto_flow": null,
            "grid_auto_rows": null,
            "grid_column": null,
            "grid_gap": null,
            "grid_row": null,
            "grid_template_areas": null,
            "grid_template_columns": null,
            "grid_template_rows": null,
            "height": null,
            "justify_content": null,
            "justify_items": null,
            "left": null,
            "margin": null,
            "max_height": null,
            "max_width": null,
            "min_height": null,
            "min_width": null,
            "object_fit": null,
            "object_position": null,
            "order": null,
            "overflow": null,
            "overflow_x": null,
            "overflow_y": null,
            "padding": null,
            "right": null,
            "top": null,
            "visibility": null,
            "width": null
          }
        },
        "b593ae3e16eb4220a39d00ba695a47cd": {
          "model_module": "@jupyter-widgets/controls",
          "model_name": "ProgressStyleModel",
          "model_module_version": "1.5.0",
          "state": {
            "_model_module": "@jupyter-widgets/controls",
            "_model_module_version": "1.5.0",
            "_model_name": "ProgressStyleModel",
            "_view_count": null,
            "_view_module": "@jupyter-widgets/base",
            "_view_module_version": "1.2.0",
            "_view_name": "StyleView",
            "bar_color": null,
            "description_width": ""
          }
        },
        "7bd18262fca647698dc40165d3237fe5": {
          "model_module": "@jupyter-widgets/base",
          "model_name": "LayoutModel",
          "model_module_version": "1.2.0",
          "state": {
            "_model_module": "@jupyter-widgets/base",
            "_model_module_version": "1.2.0",
            "_model_name": "LayoutModel",
            "_view_count": null,
            "_view_module": "@jupyter-widgets/base",
            "_view_module_version": "1.2.0",
            "_view_name": "LayoutView",
            "align_content": null,
            "align_items": null,
            "align_self": null,
            "border": null,
            "bottom": null,
            "display": null,
            "flex": null,
            "flex_flow": null,
            "grid_area": null,
            "grid_auto_columns": null,
            "grid_auto_flow": null,
            "grid_auto_rows": null,
            "grid_column": null,
            "grid_gap": null,
            "grid_row": null,
            "grid_template_areas": null,
            "grid_template_columns": null,
            "grid_template_rows": null,
            "height": null,
            "justify_content": null,
            "justify_items": null,
            "left": null,
            "margin": null,
            "max_height": null,
            "max_width": null,
            "min_height": null,
            "min_width": null,
            "object_fit": null,
            "object_position": null,
            "order": null,
            "overflow": null,
            "overflow_x": null,
            "overflow_y": null,
            "padding": null,
            "right": null,
            "top": null,
            "visibility": null,
            "width": null
          }
        },
        "fbf13b0d7ec147b58589424949a322c7": {
          "model_module": "@jupyter-widgets/controls",
          "model_name": "DescriptionStyleModel",
          "model_module_version": "1.5.0",
          "state": {
            "_model_module": "@jupyter-widgets/controls",
            "_model_module_version": "1.5.0",
            "_model_name": "DescriptionStyleModel",
            "_view_count": null,
            "_view_module": "@jupyter-widgets/base",
            "_view_module_version": "1.2.0",
            "_view_name": "StyleView",
            "description_width": ""
          }
        },
        "7810319527f94e2db7373c8b72cd917f": {
          "model_module": "@jupyter-widgets/controls",
          "model_name": "HBoxModel",
          "model_module_version": "1.5.0",
          "state": {
            "_dom_classes": [],
            "_model_module": "@jupyter-widgets/controls",
            "_model_module_version": "1.5.0",
            "_model_name": "HBoxModel",
            "_view_count": null,
            "_view_module": "@jupyter-widgets/controls",
            "_view_module_version": "1.5.0",
            "_view_name": "HBoxView",
            "box_style": "",
            "children": [
              "IPY_MODEL_39119e4bf14b42d58d7ef9e95bf463a6",
              "IPY_MODEL_49034ba36e134c949beb009ff16156cf",
              "IPY_MODEL_f9726016a6a9489e80acde3260f625ba"
            ],
            "layout": "IPY_MODEL_f991bde197d94ebca3565c594ad2641e"
          }
        },
        "39119e4bf14b42d58d7ef9e95bf463a6": {
          "model_module": "@jupyter-widgets/controls",
          "model_name": "HTMLModel",
          "model_module_version": "1.5.0",
          "state": {
            "_dom_classes": [],
            "_model_module": "@jupyter-widgets/controls",
            "_model_module_version": "1.5.0",
            "_model_name": "HTMLModel",
            "_view_count": null,
            "_view_module": "@jupyter-widgets/controls",
            "_view_module_version": "1.5.0",
            "_view_name": "HTMLView",
            "description": "",
            "description_tooltip": null,
            "layout": "IPY_MODEL_c84b3eecd90f42f8a835f6a3e619989c",
            "placeholder": "​",
            "style": "IPY_MODEL_22a138dc0fae4567903f5ca99ca36503",
            "value": "Downloading (…)olve/main/merges.txt: 100%"
          }
        },
        "49034ba36e134c949beb009ff16156cf": {
          "model_module": "@jupyter-widgets/controls",
          "model_name": "FloatProgressModel",
          "model_module_version": "1.5.0",
          "state": {
            "_dom_classes": [],
            "_model_module": "@jupyter-widgets/controls",
            "_model_module_version": "1.5.0",
            "_model_name": "FloatProgressModel",
            "_view_count": null,
            "_view_module": "@jupyter-widgets/controls",
            "_view_module_version": "1.5.0",
            "_view_name": "ProgressView",
            "bar_style": "success",
            "description": "",
            "description_tooltip": null,
            "layout": "IPY_MODEL_1835e58f88a94150a9f22ab5e2e72f81",
            "max": 456318,
            "min": 0,
            "orientation": "horizontal",
            "style": "IPY_MODEL_86f11e0ff56d4cf884514145e5b0c5c5",
            "value": 456318
          }
        },
        "f9726016a6a9489e80acde3260f625ba": {
          "model_module": "@jupyter-widgets/controls",
          "model_name": "HTMLModel",
          "model_module_version": "1.5.0",
          "state": {
            "_dom_classes": [],
            "_model_module": "@jupyter-widgets/controls",
            "_model_module_version": "1.5.0",
            "_model_name": "HTMLModel",
            "_view_count": null,
            "_view_module": "@jupyter-widgets/controls",
            "_view_module_version": "1.5.0",
            "_view_name": "HTMLView",
            "description": "",
            "description_tooltip": null,
            "layout": "IPY_MODEL_d4059bc96f4a4642b40a1234a76295cd",
            "placeholder": "​",
            "style": "IPY_MODEL_3d196d83e758433f90bf9cbd6f06cbfe",
            "value": " 456k/456k [00:00&lt;00:00, 6.82MB/s]"
          }
        },
        "f991bde197d94ebca3565c594ad2641e": {
          "model_module": "@jupyter-widgets/base",
          "model_name": "LayoutModel",
          "model_module_version": "1.2.0",
          "state": {
            "_model_module": "@jupyter-widgets/base",
            "_model_module_version": "1.2.0",
            "_model_name": "LayoutModel",
            "_view_count": null,
            "_view_module": "@jupyter-widgets/base",
            "_view_module_version": "1.2.0",
            "_view_name": "LayoutView",
            "align_content": null,
            "align_items": null,
            "align_self": null,
            "border": null,
            "bottom": null,
            "display": null,
            "flex": null,
            "flex_flow": null,
            "grid_area": null,
            "grid_auto_columns": null,
            "grid_auto_flow": null,
            "grid_auto_rows": null,
            "grid_column": null,
            "grid_gap": null,
            "grid_row": null,
            "grid_template_areas": null,
            "grid_template_columns": null,
            "grid_template_rows": null,
            "height": null,
            "justify_content": null,
            "justify_items": null,
            "left": null,
            "margin": null,
            "max_height": null,
            "max_width": null,
            "min_height": null,
            "min_width": null,
            "object_fit": null,
            "object_position": null,
            "order": null,
            "overflow": null,
            "overflow_x": null,
            "overflow_y": null,
            "padding": null,
            "right": null,
            "top": null,
            "visibility": null,
            "width": null
          }
        },
        "c84b3eecd90f42f8a835f6a3e619989c": {
          "model_module": "@jupyter-widgets/base",
          "model_name": "LayoutModel",
          "model_module_version": "1.2.0",
          "state": {
            "_model_module": "@jupyter-widgets/base",
            "_model_module_version": "1.2.0",
            "_model_name": "LayoutModel",
            "_view_count": null,
            "_view_module": "@jupyter-widgets/base",
            "_view_module_version": "1.2.0",
            "_view_name": "LayoutView",
            "align_content": null,
            "align_items": null,
            "align_self": null,
            "border": null,
            "bottom": null,
            "display": null,
            "flex": null,
            "flex_flow": null,
            "grid_area": null,
            "grid_auto_columns": null,
            "grid_auto_flow": null,
            "grid_auto_rows": null,
            "grid_column": null,
            "grid_gap": null,
            "grid_row": null,
            "grid_template_areas": null,
            "grid_template_columns": null,
            "grid_template_rows": null,
            "height": null,
            "justify_content": null,
            "justify_items": null,
            "left": null,
            "margin": null,
            "max_height": null,
            "max_width": null,
            "min_height": null,
            "min_width": null,
            "object_fit": null,
            "object_position": null,
            "order": null,
            "overflow": null,
            "overflow_x": null,
            "overflow_y": null,
            "padding": null,
            "right": null,
            "top": null,
            "visibility": null,
            "width": null
          }
        },
        "22a138dc0fae4567903f5ca99ca36503": {
          "model_module": "@jupyter-widgets/controls",
          "model_name": "DescriptionStyleModel",
          "model_module_version": "1.5.0",
          "state": {
            "_model_module": "@jupyter-widgets/controls",
            "_model_module_version": "1.5.0",
            "_model_name": "DescriptionStyleModel",
            "_view_count": null,
            "_view_module": "@jupyter-widgets/base",
            "_view_module_version": "1.2.0",
            "_view_name": "StyleView",
            "description_width": ""
          }
        },
        "1835e58f88a94150a9f22ab5e2e72f81": {
          "model_module": "@jupyter-widgets/base",
          "model_name": "LayoutModel",
          "model_module_version": "1.2.0",
          "state": {
            "_model_module": "@jupyter-widgets/base",
            "_model_module_version": "1.2.0",
            "_model_name": "LayoutModel",
            "_view_count": null,
            "_view_module": "@jupyter-widgets/base",
            "_view_module_version": "1.2.0",
            "_view_name": "LayoutView",
            "align_content": null,
            "align_items": null,
            "align_self": null,
            "border": null,
            "bottom": null,
            "display": null,
            "flex": null,
            "flex_flow": null,
            "grid_area": null,
            "grid_auto_columns": null,
            "grid_auto_flow": null,
            "grid_auto_rows": null,
            "grid_column": null,
            "grid_gap": null,
            "grid_row": null,
            "grid_template_areas": null,
            "grid_template_columns": null,
            "grid_template_rows": null,
            "height": null,
            "justify_content": null,
            "justify_items": null,
            "left": null,
            "margin": null,
            "max_height": null,
            "max_width": null,
            "min_height": null,
            "min_width": null,
            "object_fit": null,
            "object_position": null,
            "order": null,
            "overflow": null,
            "overflow_x": null,
            "overflow_y": null,
            "padding": null,
            "right": null,
            "top": null,
            "visibility": null,
            "width": null
          }
        },
        "86f11e0ff56d4cf884514145e5b0c5c5": {
          "model_module": "@jupyter-widgets/controls",
          "model_name": "ProgressStyleModel",
          "model_module_version": "1.5.0",
          "state": {
            "_model_module": "@jupyter-widgets/controls",
            "_model_module_version": "1.5.0",
            "_model_name": "ProgressStyleModel",
            "_view_count": null,
            "_view_module": "@jupyter-widgets/base",
            "_view_module_version": "1.2.0",
            "_view_name": "StyleView",
            "bar_color": null,
            "description_width": ""
          }
        },
        "d4059bc96f4a4642b40a1234a76295cd": {
          "model_module": "@jupyter-widgets/base",
          "model_name": "LayoutModel",
          "model_module_version": "1.2.0",
          "state": {
            "_model_module": "@jupyter-widgets/base",
            "_model_module_version": "1.2.0",
            "_model_name": "LayoutModel",
            "_view_count": null,
            "_view_module": "@jupyter-widgets/base",
            "_view_module_version": "1.2.0",
            "_view_name": "LayoutView",
            "align_content": null,
            "align_items": null,
            "align_self": null,
            "border": null,
            "bottom": null,
            "display": null,
            "flex": null,
            "flex_flow": null,
            "grid_area": null,
            "grid_auto_columns": null,
            "grid_auto_flow": null,
            "grid_auto_rows": null,
            "grid_column": null,
            "grid_gap": null,
            "grid_row": null,
            "grid_template_areas": null,
            "grid_template_columns": null,
            "grid_template_rows": null,
            "height": null,
            "justify_content": null,
            "justify_items": null,
            "left": null,
            "margin": null,
            "max_height": null,
            "max_width": null,
            "min_height": null,
            "min_width": null,
            "object_fit": null,
            "object_position": null,
            "order": null,
            "overflow": null,
            "overflow_x": null,
            "overflow_y": null,
            "padding": null,
            "right": null,
            "top": null,
            "visibility": null,
            "width": null
          }
        },
        "3d196d83e758433f90bf9cbd6f06cbfe": {
          "model_module": "@jupyter-widgets/controls",
          "model_name": "DescriptionStyleModel",
          "model_module_version": "1.5.0",
          "state": {
            "_model_module": "@jupyter-widgets/controls",
            "_model_module_version": "1.5.0",
            "_model_name": "DescriptionStyleModel",
            "_view_count": null,
            "_view_module": "@jupyter-widgets/base",
            "_view_module_version": "1.2.0",
            "_view_name": "StyleView",
            "description_width": ""
          }
        }
      }
    }
  },
  "cells": [
    {
      "cell_type": "markdown",
      "source": [
        "# **The whole is based on:**\n",
        "### https://github.com/openai/gpt-2-output-dataset/tree/master/detector\n",
        "![colab-gpt2-detector.png](data:image/png;base64,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)"
      ],
      "metadata": {
        "id": "w40pnTzb2_zD"
      }
    },
    {
      "cell_type": "markdown",
      "source": [
        "# **Install the Libraries**"
      ],
      "metadata": {
        "id": "xdEtmAqNqDYQ"
      }
    },
    {
      "cell_type": "code",
      "source": [
        "!pip install gradio transformers\n",
        "!pip install onnx onnxruntime\n",
        "# !pip install sentencepiece sentence-splitter"
      ],
      "metadata": {
        "id": "tPV3sQxCeOgl",
        "colab": {
          "base_uri": "https://localhost:8080/"
        },
        "outputId": "0ccbaa82-a816-4874-8829-91544e3478a3"
      },
      "execution_count": null,
      "outputs": [
        {
          "output_type": "stream",
          "name": "stdout",
          "text": [
            "Collecting gradio\n",
            "  Downloading gradio-3.36.0-py3-none-any.whl (19.8 MB)\n",
            "\u001b[2K     \u001b[90m━━━━━━━━━━━━━━━━━━━━━━━━━━━━━━━━━━━━━━━━\u001b[0m \u001b[32m19.8/19.8 MB\u001b[0m \u001b[31m65.6 MB/s\u001b[0m eta \u001b[36m0:00:00\u001b[0m\n",
            "\u001b[?25hCollecting transformers\n",
            "  Downloading transformers-4.30.2-py3-none-any.whl (7.2 MB)\n",
            "\u001b[2K     \u001b[90m━━━━━━━━━━━━━━━━━━━━━━━━━━━━━━━━━━━━━━━━\u001b[0m \u001b[32m7.2/7.2 MB\u001b[0m \u001b[31m81.0 MB/s\u001b[0m eta \u001b[36m0:00:00\u001b[0m\n",
            "\u001b[?25hCollecting aiofiles (from gradio)\n",
            "  Downloading aiofiles-23.1.0-py3-none-any.whl (14 kB)\n",
            "Requirement already satisfied: aiohttp in /usr/local/lib/python3.10/dist-packages (from gradio) (3.8.4)\n",
            "Requirement already satisfied: altair>=4.2.0 in /usr/local/lib/python3.10/dist-packages (from gradio) (4.2.2)\n",
            "Collecting fastapi (from gradio)\n",
            "  Downloading fastapi-0.99.1-py3-none-any.whl (58 kB)\n",
            "\u001b[2K     \u001b[90m━━━━━━━━━━━━━━━━━━━━━━━━━━━━━━━━━━━━━━━━\u001b[0m \u001b[32m58.4/58.4 kB\u001b[0m \u001b[31m4.7 MB/s\u001b[0m eta \u001b[36m0:00:00\u001b[0m\n",
            "\u001b[?25hCollecting ffmpy (from gradio)\n",
            "  Downloading ffmpy-0.3.0.tar.gz (4.8 kB)\n",
            "  Preparing metadata (setup.py) ... \u001b[?25l\u001b[?25hdone\n",
            "Collecting gradio-client>=0.2.7 (from gradio)\n",
            "  Downloading gradio_client-0.2.7-py3-none-any.whl (288 kB)\n",
            "\u001b[2K     \u001b[90m━━━━━━━━━━━━━━━━━━━━━━━━━━━━━━━━━━━━━━\u001b[0m \u001b[32m288.4/288.4 kB\u001b[0m \u001b[31m21.8 MB/s\u001b[0m eta \u001b[36m0:00:00\u001b[0m\n",
            "\u001b[?25hCollecting httpx (from gradio)\n",
            "  Downloading httpx-0.24.1-py3-none-any.whl (75 kB)\n",
            "\u001b[2K     \u001b[90m━━━━━━━━━━━━━━━━━━━━━━━━━━━━━━━━━━━━━━━━\u001b[0m \u001b[32m75.4/75.4 kB\u001b[0m \u001b[31m9.1 MB/s\u001b[0m eta \u001b[36m0:00:00\u001b[0m\n",
            "\u001b[?25hCollecting huggingface-hub>=0.14.0 (from gradio)\n",
            "  Downloading huggingface_hub-0.16.4-py3-none-any.whl (268 kB)\n",
            "\u001b[2K     \u001b[90m━━━━━━━━━━━━━━━━━━━━━━━━━━━━━━━━━━━━━━\u001b[0m \u001b[32m268.8/268.8 kB\u001b[0m \u001b[31m26.6 MB/s\u001b[0m eta \u001b[36m0:00:00\u001b[0m\n",
            "\u001b[?25hRequirement already satisfied: jinja2 in /usr/local/lib/python3.10/dist-packages (from gradio) (3.1.2)\n",
            "Requirement already satisfied: markdown-it-py[linkify]>=2.0.0 in /usr/local/lib/python3.10/dist-packages (from gradio) (3.0.0)\n",
            "Requirement already satisfied: markupsafe in /usr/local/lib/python3.10/dist-packages (from gradio) (2.1.3)\n",
            "Requirement already satisfied: matplotlib in /usr/local/lib/python3.10/dist-packages (from gradio) (3.7.1)\n",
            "Collecting mdit-py-plugins<=0.3.3 (from gradio)\n",
            "  Downloading mdit_py_plugins-0.3.3-py3-none-any.whl (50 kB)\n",
            "\u001b[2K     \u001b[90m━━━━━━━━━━━━━━━━━━━━━━━━━━━━━━━━━━━━━━━━\u001b[0m \u001b[32m50.5/50.5 kB\u001b[0m \u001b[31m3.4 MB/s\u001b[0m eta \u001b[36m0:00:00\u001b[0m\n",
            "\u001b[?25hRequirement already satisfied: numpy in /usr/local/lib/python3.10/dist-packages (from gradio) (1.22.4)\n",
            "Collecting orjson (from gradio)\n",
            "  Downloading orjson-3.9.2-cp310-cp310-manylinux_2_17_x86_64.manylinux2014_x86_64.whl (138 kB)\n",
            "\u001b[2K     \u001b[90m━━━━━━━━━━━━━━━━━━━━━━━━━━━━━━━━━━━━━━\u001b[0m \u001b[32m138.7/138.7 kB\u001b[0m \u001b[31m14.4 MB/s\u001b[0m eta \u001b[36m0:00:00\u001b[0m\n",
            "\u001b[?25hRequirement already satisfied: pandas in /usr/local/lib/python3.10/dist-packages (from gradio) (1.5.3)\n",
            "Requirement already satisfied: pillow in /usr/local/lib/python3.10/dist-packages (from gradio) (8.4.0)\n",
            "Requirement already satisfied: pydantic in /usr/local/lib/python3.10/dist-packages (from gradio) (1.10.9)\n",
            "Collecting pydub (from gradio)\n",
            "  Downloading pydub-0.25.1-py2.py3-none-any.whl (32 kB)\n",
            "Requirement already satisfied: pygments>=2.12.0 in /usr/local/lib/python3.10/dist-packages (from gradio) (2.14.0)\n",
            "Collecting python-multipart (from gradio)\n",
            "  Downloading python_multipart-0.0.6-py3-none-any.whl (45 kB)\n",
            "\u001b[2K     \u001b[90m━━━━━━━━━━━━━━━━━━━━━━━━━━━━━━━━━━━━━━━━\u001b[0m \u001b[32m45.7/45.7 kB\u001b[0m \u001b[31m5.4 MB/s\u001b[0m eta \u001b[36m0:00:00\u001b[0m\n",
            "\u001b[?25hRequirement already satisfied: pyyaml in /usr/local/lib/python3.10/dist-packages (from gradio) (6.0)\n",
            "Requirement already satisfied: requests in /usr/local/lib/python3.10/dist-packages (from gradio) (2.27.1)\n",
            "Collecting semantic-version (from gradio)\n",
            "  Downloading semantic_version-2.10.0-py2.py3-none-any.whl (15 kB)\n",
            "Collecting uvicorn>=0.14.0 (from gradio)\n",
            "  Downloading uvicorn-0.22.0-py3-none-any.whl (58 kB)\n",
            "\u001b[2K     \u001b[90m━━━━━━━━━━━━━━━━━━━━━━━━━━━━━━━━━━━━━━━━\u001b[0m \u001b[32m58.3/58.3 kB\u001b[0m \u001b[31m7.0 MB/s\u001b[0m eta \u001b[36m0:00:00\u001b[0m\n",
            "\u001b[?25hCollecting websockets>=10.0 (from gradio)\n",
            "  Downloading websockets-11.0.3-cp310-cp310-manylinux_2_5_x86_64.manylinux1_x86_64.manylinux_2_17_x86_64.manylinux2014_x86_64.whl (129 kB)\n",
            "\u001b[2K     \u001b[90m━━━━━━━━━━━━━━━━━━━━━━━━━━━━━━━━━━━━━━\u001b[0m \u001b[32m129.9/129.9 kB\u001b[0m \u001b[31m15.7 MB/s\u001b[0m eta \u001b[36m0:00:00\u001b[0m\n",
            "\u001b[?25hRequirement already satisfied: filelock in /usr/local/lib/python3.10/dist-packages (from transformers) (3.12.2)\n",
            "Requirement already satisfied: packaging>=20.0 in /usr/local/lib/python3.10/dist-packages (from transformers) (23.1)\n",
            "Requirement already satisfied: regex!=2019.12.17 in /usr/local/lib/python3.10/dist-packages (from transformers) (2022.10.31)\n",
            "Collecting tokenizers!=0.11.3,<0.14,>=0.11.1 (from transformers)\n",
            "  Downloading tokenizers-0.13.3-cp310-cp310-manylinux_2_17_x86_64.manylinux2014_x86_64.whl (7.8 MB)\n",
            "\u001b[2K     \u001b[90m━━━━━━━━━━━━━━━━━━━━━━━━━━━━━━━━━━━━━━━━\u001b[0m \u001b[32m7.8/7.8 MB\u001b[0m \u001b[31m30.8 MB/s\u001b[0m eta \u001b[36m0:00:00\u001b[0m\n",
            "\u001b[?25hCollecting safetensors>=0.3.1 (from transformers)\n",
            "  Downloading safetensors-0.3.1-cp310-cp310-manylinux_2_17_x86_64.manylinux2014_x86_64.whl (1.3 MB)\n",
            "\u001b[2K     \u001b[90m━━━━━━━━━━━━━━━━━━━━━━━━━━━━━━━━━━━━━━━━\u001b[0m \u001b[32m1.3/1.3 MB\u001b[0m \u001b[31m22.9 MB/s\u001b[0m eta \u001b[36m0:00:00\u001b[0m\n",
            "\u001b[?25hRequirement already satisfied: tqdm>=4.27 in /usr/local/lib/python3.10/dist-packages (from transformers) (4.65.0)\n",
            "Requirement already satisfied: entrypoints in /usr/local/lib/python3.10/dist-packages (from altair>=4.2.0->gradio) (0.4)\n",
            "Requirement already satisfied: jsonschema>=3.0 in /usr/local/lib/python3.10/dist-packages (from altair>=4.2.0->gradio) (4.3.3)\n",
            "Requirement already satisfied: toolz in /usr/local/lib/python3.10/dist-packages (from altair>=4.2.0->gradio) (0.12.0)\n",
            "Requirement already satisfied: fsspec in /usr/local/lib/python3.10/dist-packages (from gradio-client>=0.2.7->gradio) (2023.6.0)\n",
            "Requirement already satisfied: typing-extensions in /usr/local/lib/python3.10/dist-packages (from gradio-client>=0.2.7->gradio) (4.6.3)\n",
            "Requirement already satisfied: mdurl~=0.1 in /usr/local/lib/python3.10/dist-packages (from markdown-it-py[linkify]>=2.0.0->gradio) (0.1.2)\n",
            "Collecting linkify-it-py<3,>=1 (from markdown-it-py[linkify]>=2.0.0->gradio)\n",
            "  Downloading linkify_it_py-2.0.2-py3-none-any.whl (19 kB)\n",
            "INFO: pip is looking at multiple versions of mdit-py-plugins to determine which version is compatible with other requirements. This could take a while.\n",
            "Collecting mdit-py-plugins<=0.3.3 (from gradio)\n",
            "  Downloading mdit_py_plugins-0.3.2-py3-none-any.whl (50 kB)\n",
            "\u001b[2K     \u001b[90m━━━━━━━━━━━━━━━━━━━━━━━━━━━━━━━━━━━━━━━━\u001b[0m \u001b[32m50.4/50.4 kB\u001b[0m \u001b[31m5.8 MB/s\u001b[0m eta \u001b[36m0:00:00\u001b[0m\n",
            "\u001b[?25h  Downloading mdit_py_plugins-0.3.1-py3-none-any.whl (46 kB)\n",
            "\u001b[2K     \u001b[90m━━━━━━━━━━━━━━━━━━━━━━━━━━━━━━━━━━━━━━━━\u001b[0m \u001b[32m46.5/46.5 kB\u001b[0m \u001b[31m3.4 MB/s\u001b[0m eta \u001b[36m0:00:00\u001b[0m\n",
            "\u001b[?25h  Downloading mdit_py_plugins-0.3.0-py3-none-any.whl (43 kB)\n",
            "\u001b[2K     \u001b[90m━━━━━━━━━━━━━━━━━━━━━━━━━━━━━━━━━━━━━━━━\u001b[0m \u001b[32m43.7/43.7 kB\u001b[0m \u001b[31m4.5 MB/s\u001b[0m eta \u001b[36m0:00:00\u001b[0m\n",
            "\u001b[?25h  Downloading mdit_py_plugins-0.2.8-py3-none-any.whl (41 kB)\n",
            "\u001b[2K     \u001b[90m━━━━━━━━━━━━━━━━━━━━━━━━━━━━━━━━━━━━━━━━\u001b[0m \u001b[32m41.0/41.0 kB\u001b[0m \u001b[31m4.6 MB/s\u001b[0m eta \u001b[36m0:00:00\u001b[0m\n",
            "\u001b[?25h  Downloading mdit_py_plugins-0.2.7-py3-none-any.whl (41 kB)\n",
            "\u001b[2K     \u001b[90m━━━━━━━━━━━━━━━━━━━━━━━━━━━━━━━━━━━━━━━━\u001b[0m \u001b[32m41.0/41.0 kB\u001b[0m \u001b[31m4.3 MB/s\u001b[0m eta \u001b[36m0:00:00\u001b[0m\n",
            "\u001b[?25h  Downloading mdit_py_plugins-0.2.6-py3-none-any.whl (39 kB)\n",
            "  Downloading mdit_py_plugins-0.2.5-py3-none-any.whl (39 kB)\n",
            "INFO: pip is looking at multiple versions of mdit-py-plugins to determine which version is compatible with other requirements. This could take a while.\n",
            "  Downloading mdit_py_plugins-0.2.4-py3-none-any.whl (39 kB)\n",
            "  Downloading mdit_py_plugins-0.2.3-py3-none-any.whl (39 kB)\n",
            "  Downloading mdit_py_plugins-0.2.2-py3-none-any.whl (39 kB)\n",
            "  Downloading mdit_py_plugins-0.2.1-py3-none-any.whl (38 kB)\n",
            "  Downloading mdit_py_plugins-0.2.0-py3-none-any.whl (38 kB)\n",
            "INFO: This is taking longer than usual. You might need to provide the dependency resolver with stricter constraints to reduce runtime. See https://pip.pypa.io/warnings/backtracking for guidance. If you want to abort this run, press Ctrl + C.\n",
            "  Downloading mdit_py_plugins-0.1.0-py3-none-any.whl (37 kB)\n",
            "Collecting markdown-it-py[linkify]>=2.0.0 (from gradio)\n",
            "  Downloading markdown_it_py-3.0.0-py3-none-any.whl (87 kB)\n",
            "\u001b[2K     \u001b[90m━━━━━━━━━━━━━━━━━━━━━━━━━━━━━━━━━━━━━━━━\u001b[0m \u001b[32m87.5/87.5 kB\u001b[0m \u001b[31m10.9 MB/s\u001b[0m eta \u001b[36m0:00:00\u001b[0m\n",
            "\u001b[?25h  Downloading markdown_it_py-2.2.0-py3-none-any.whl (84 kB)\n",
            "\u001b[2K     \u001b[90m━━━━━━━━━━━━━━━━━━━━━━━━━━━━━━━━━━━━━━━━\u001b[0m \u001b[32m84.5/84.5 kB\u001b[0m \u001b[31m10.4 MB/s\u001b[0m eta \u001b[36m0:00:00\u001b[0m\n",
            "\u001b[?25hRequirement already satisfied: python-dateutil>=2.8.1 in /usr/local/lib/python3.10/dist-packages (from pandas->gradio) (2.8.2)\n",
            "Requirement already satisfied: pytz>=2020.1 in /usr/local/lib/python3.10/dist-packages (from pandas->gradio) (2022.7.1)\n",
            "Requirement already satisfied: click>=7.0 in /usr/local/lib/python3.10/dist-packages (from uvicorn>=0.14.0->gradio) (8.1.3)\n",
            "Collecting h11>=0.8 (from uvicorn>=0.14.0->gradio)\n",
            "  Downloading h11-0.14.0-py3-none-any.whl (58 kB)\n",
            "\u001b[2K     \u001b[90m━━━━━━━━━━━━━━━━━━━━━━━━━━━━━━━━━━━━━━━━\u001b[0m \u001b[32m58.3/58.3 kB\u001b[0m \u001b[31m6.5 MB/s\u001b[0m eta \u001b[36m0:00:00\u001b[0m\n",
            "\u001b[?25hRequirement already satisfied: attrs>=17.3.0 in /usr/local/lib/python3.10/dist-packages (from aiohttp->gradio) (23.1.0)\n",
            "Requirement already satisfied: charset-normalizer<4.0,>=2.0 in /usr/local/lib/python3.10/dist-packages (from aiohttp->gradio) (2.0.12)\n",
            "Requirement already satisfied: multidict<7.0,>=4.5 in /usr/local/lib/python3.10/dist-packages (from aiohttp->gradio) (6.0.4)\n",
            "Requirement already satisfied: async-timeout<5.0,>=4.0.0a3 in /usr/local/lib/python3.10/dist-packages (from aiohttp->gradio) (4.0.2)\n",
            "Requirement already satisfied: yarl<2.0,>=1.0 in /usr/local/lib/python3.10/dist-packages (from aiohttp->gradio) (1.9.2)\n",
            "Requirement already satisfied: frozenlist>=1.1.1 in /usr/local/lib/python3.10/dist-packages (from aiohttp->gradio) (1.3.3)\n",
            "Requirement already satisfied: aiosignal>=1.1.2 in /usr/local/lib/python3.10/dist-packages (from aiohttp->gradio) (1.3.1)\n",
            "Collecting starlette<0.28.0,>=0.27.0 (from fastapi->gradio)\n",
            "  Downloading starlette-0.27.0-py3-none-any.whl (66 kB)\n",
            "\u001b[2K     \u001b[90m━━━━━━━━━━━━━━━━━━━━━━━━━━━━━━━━━━━━━━━━\u001b[0m \u001b[32m67.0/67.0 kB\u001b[0m \u001b[31m4.3 MB/s\u001b[0m eta \u001b[36m0:00:00\u001b[0m\n",
            "\u001b[?25hRequirement already satisfied: certifi in /usr/local/lib/python3.10/dist-packages (from httpx->gradio) (2023.5.7)\n",
            "Collecting httpcore<0.18.0,>=0.15.0 (from httpx->gradio)\n",
            "  Downloading httpcore-0.17.3-py3-none-any.whl (74 kB)\n",
            "\u001b[2K     \u001b[90m━━━━━━━━━━━━━━━━━━━━━━━━━━━━━━━━━━━━━━━━\u001b[0m \u001b[32m74.5/74.5 kB\u001b[0m \u001b[31m8.6 MB/s\u001b[0m eta \u001b[36m0:00:00\u001b[0m\n",
            "\u001b[?25hRequirement already satisfied: idna in /usr/local/lib/python3.10/dist-packages (from httpx->gradio) (3.4)\n",
            "Requirement already satisfied: sniffio in /usr/local/lib/python3.10/dist-packages (from httpx->gradio) (1.3.0)\n",
            "Requirement already satisfied: contourpy>=1.0.1 in /usr/local/lib/python3.10/dist-packages (from matplotlib->gradio) (1.1.0)\n",
            "Requirement already satisfied: cycler>=0.10 in /usr/local/lib/python3.10/dist-packages (from matplotlib->gradio) (0.11.0)\n",
            "Requirement already satisfied: fonttools>=4.22.0 in /usr/local/lib/python3.10/dist-packages (from matplotlib->gradio) (4.40.0)\n",
            "Requirement already satisfied: kiwisolver>=1.0.1 in /usr/local/lib/python3.10/dist-packages (from matplotlib->gradio) (1.4.4)\n",
            "Requirement already satisfied: pyparsing>=2.3.1 in /usr/local/lib/python3.10/dist-packages (from matplotlib->gradio) (3.1.0)\n",
            "Requirement already satisfied: urllib3<1.27,>=1.21.1 in /usr/local/lib/python3.10/dist-packages (from requests->gradio) (1.26.16)\n",
            "Requirement already satisfied: anyio<5.0,>=3.0 in /usr/local/lib/python3.10/dist-packages (from httpcore<0.18.0,>=0.15.0->httpx->gradio) (3.7.0)\n",
            "Requirement already satisfied: pyrsistent!=0.17.0,!=0.17.1,!=0.17.2,>=0.14.0 in /usr/local/lib/python3.10/dist-packages (from jsonschema>=3.0->altair>=4.2.0->gradio) (0.19.3)\n",
            "Collecting uc-micro-py (from linkify-it-py<3,>=1->markdown-it-py[linkify]>=2.0.0->gradio)\n",
            "  Downloading uc_micro_py-1.0.2-py3-none-any.whl (6.2 kB)\n",
            "Requirement already satisfied: six>=1.5 in /usr/local/lib/python3.10/dist-packages (from python-dateutil>=2.8.1->pandas->gradio) (1.16.0)\n",
            "Requirement already satisfied: exceptiongroup in /usr/local/lib/python3.10/dist-packages (from anyio<5.0,>=3.0->httpcore<0.18.0,>=0.15.0->httpx->gradio) (1.1.1)\n",
            "Building wheels for collected packages: ffmpy\n",
            "  Building wheel for ffmpy (setup.py) ... \u001b[?25l\u001b[?25hdone\n",
            "  Created wheel for ffmpy: filename=ffmpy-0.3.0-py3-none-any.whl size=4694 sha256=864804b7a3828000d6187c178434a8ab75355188542debb2e7a547b3b9442816\n",
            "  Stored in directory: /root/.cache/pip/wheels/0c/c2/0e/3b9c6845c6a4e35beb90910cc70d9ac9ab5d47402bd62af0df\n",
            "Successfully built ffmpy\n",
            "Installing collected packages: tokenizers, safetensors, pydub, ffmpy, websockets, uc-micro-py, semantic-version, python-multipart, orjson, markdown-it-py, h11, aiofiles, uvicorn, starlette, mdit-py-plugins, linkify-it-py, huggingface-hub, httpcore, transformers, httpx, fastapi, gradio-client, gradio\n",
            "  Attempting uninstall: markdown-it-py\n",
            "    Found existing installation: markdown-it-py 3.0.0\n",
            "    Uninstalling markdown-it-py-3.0.0:\n",
            "      Successfully uninstalled markdown-it-py-3.0.0\n",
            "Successfully installed aiofiles-23.1.0 fastapi-0.99.1 ffmpy-0.3.0 gradio-3.36.0 gradio-client-0.2.7 h11-0.14.0 httpcore-0.17.3 httpx-0.24.1 huggingface-hub-0.16.4 linkify-it-py-2.0.2 markdown-it-py-2.2.0 mdit-py-plugins-0.3.3 orjson-3.9.2 pydub-0.25.1 python-multipart-0.0.6 safetensors-0.3.1 semantic-version-2.10.0 starlette-0.27.0 tokenizers-0.13.3 transformers-4.30.2 uc-micro-py-1.0.2 uvicorn-0.22.0 websockets-11.0.3\n",
            "Collecting onnx\n",
            "  Downloading onnx-1.14.0-cp310-cp310-manylinux_2_17_x86_64.manylinux2014_x86_64.whl (14.6 MB)\n",
            "\u001b[2K     \u001b[90m━━━━━━━━━━━━━━━━━━━━━━━━━━━━━━━━━━━━━━━━\u001b[0m \u001b[32m14.6/14.6 MB\u001b[0m \u001b[31m49.9 MB/s\u001b[0m eta \u001b[36m0:00:00\u001b[0m\n",
            "\u001b[?25hCollecting onnxruntime\n",
            "  Downloading onnxruntime-1.15.1-cp310-cp310-manylinux_2_17_x86_64.manylinux2014_x86_64.whl (5.9 MB)\n",
            "\u001b[2K     \u001b[90m━━━━━━━━━━━━━━━━━━━━━━━━━━━━━━━━━━━━━━━━\u001b[0m \u001b[32m5.9/5.9 MB\u001b[0m \u001b[31m48.0 MB/s\u001b[0m eta \u001b[36m0:00:00\u001b[0m\n",
            "\u001b[?25hRequirement already satisfied: numpy in /usr/local/lib/python3.10/dist-packages (from onnx) (1.22.4)\n",
            "Requirement already satisfied: protobuf>=3.20.2 in /usr/local/lib/python3.10/dist-packages (from onnx) (3.20.3)\n",
            "Requirement already satisfied: typing-extensions>=3.6.2.1 in /usr/local/lib/python3.10/dist-packages (from onnx) (4.6.3)\n",
            "Collecting coloredlogs (from onnxruntime)\n",
            "  Downloading coloredlogs-15.0.1-py2.py3-none-any.whl (46 kB)\n",
            "\u001b[2K     \u001b[90m━━━━━━━━━━━━━━━━━━━━━━━━━━━━━━━━━━━━━━━━\u001b[0m \u001b[32m46.0/46.0 kB\u001b[0m \u001b[31m5.1 MB/s\u001b[0m eta \u001b[36m0:00:00\u001b[0m\n",
            "\u001b[?25hRequirement already satisfied: flatbuffers in /usr/local/lib/python3.10/dist-packages (from onnxruntime) (23.5.26)\n",
            "Requirement already satisfied: packaging in /usr/local/lib/python3.10/dist-packages (from onnxruntime) (23.1)\n",
            "Requirement already satisfied: sympy in /usr/local/lib/python3.10/dist-packages (from onnxruntime) (1.11.1)\n",
            "Collecting humanfriendly>=9.1 (from coloredlogs->onnxruntime)\n",
            "  Downloading humanfriendly-10.0-py2.py3-none-any.whl (86 kB)\n",
            "\u001b[2K     \u001b[90m━━━━━━━━━━━━━━━━━━━━━━━━━━━━━━━━━━━━━━━━\u001b[0m \u001b[32m86.8/86.8 kB\u001b[0m \u001b[31m10.3 MB/s\u001b[0m eta \u001b[36m0:00:00\u001b[0m\n",
            "\u001b[?25hRequirement already satisfied: mpmath>=0.19 in /usr/local/lib/python3.10/dist-packages (from sympy->onnxruntime) (1.3.0)\n",
            "Installing collected packages: onnx, humanfriendly, coloredlogs, onnxruntime\n",
            "Successfully installed coloredlogs-15.0.1 humanfriendly-10.0 onnx-1.14.0 onnxruntime-1.15.1\n"
          ]
        }
      ]
    },
    {
      "cell_type": "markdown",
      "source": [
        "# **Link for the optimized ONNX model**\n",
        "\n",
        "https://drive.google.com/file/d/1XpOj-fQskrkaNtc0ftjs4cj3uHqk0IJk/view?usp=sharing"
      ],
      "metadata": {
        "id": "4TUMIjCaRmI4"
      }
    },
    {
      "cell_type": "markdown",
      "source": [
        "# **Import Libraries**"
      ],
      "metadata": {
        "id": "RTWwjecEqInJ"
      }
    },
    {
      "cell_type": "code",
      "source": [
        "import os, sys\n",
        "import gradio as gr\n",
        "import numpy as np\n",
        "\n",
        "from transformers import RobertaForSequenceClassification, RobertaTokenizer\n",
        "import json, time\n",
        "import onnx\n",
        "import onnxruntime\n",
        "# import fire\n",
        "import torch"
      ],
      "metadata": {
        "id": "LHDg3DSMdr9z"
      },
      "execution_count": null,
      "outputs": []
    },
    {
      "cell_type": "code",
      "source": [],
      "metadata": {
        "id": "uzqNOFeudr6j"
      },
      "execution_count": null,
      "outputs": []
    },
    {
      "cell_type": "code",
      "source": [],
      "metadata": {
        "id": "fIFumeuddr0V"
      },
      "execution_count": null,
      "outputs": []
    },
    {
      "cell_type": "markdown",
      "source": [
        "# **Download the weights of detector model**\n",
        "\n",
        "##### https://openaipublic.azureedge.net/gpt-2/detector-models/v1/detector-large.pt\n",
        "\n",
        "##### https://openaipublic.azureedge.net/gpt-2/detector-models/v1/detector-base.pt"
      ],
      "metadata": {
        "id": "Se9nUJcmqMvO"
      }
    },
    {
      "cell_type": "code",
      "execution_count": null,
      "metadata": {
        "id": "VDQ8xkF9djR3",
        "colab": {
          "base_uri": "https://localhost:8080/"
        },
        "outputId": "dff2fb36-6bc0-4174-dadf-177ff37cd77a"
      },
      "outputs": [
        {
          "output_type": "stream",
          "name": "stdout",
          "text": [
            "--2023-07-07 16:01:58--  https://openaipublic.azureedge.net/gpt-2/detector-models/v1/detector-large.pt\n",
            "Resolving openaipublic.azureedge.net (openaipublic.azureedge.net)... 13.107.246.70, 13.107.213.70, 2620:1ec:bdf::70, ...\n",
            "Connecting to openaipublic.azureedge.net (openaipublic.azureedge.net)|13.107.246.70|:443... connected.\n",
            "HTTP request sent, awaiting response... 200 OK\n",
            "Length: 1425743818 (1.3G) [application/octet-stream]\n",
            "Saving to: ‘detector-large.pt’\n",
            "\n",
            "detector-large.pt   100%[===================>]   1.33G  13.8MB/s    in 1m 48s  \n",
            "\n",
            "2023-07-07 16:03:46 (12.6 MB/s) - ‘detector-large.pt’ saved [1425743818/1425743818]\n",
            "\n"
          ]
        }
      ],
      "source": [
        "!wget https://openaipublic.azureedge.net/gpt-2/detector-models/v1/detector-large.pt\n",
        "# !wget https://openaipublic.azureedge.net/gpt-2/detector-models/v1/detector-base.pt"
      ]
    },
    {
      "cell_type": "code",
      "source": [],
      "metadata": {
        "id": "1zWpqRVeVA0h"
      },
      "execution_count": null,
      "outputs": []
    },
    {
      "cell_type": "markdown",
      "source": [
        "### **For getting satisfied result, use \"*detector-large.pt*\" checkpoint**"
      ],
      "metadata": {
        "id": "b1pMW3_gVBb3"
      }
    },
    {
      "cell_type": "code",
      "source": [
        "checkpoint = 'detector-large.pt'\n",
        "# checkpoint = 'detector-base.pt'\n",
        "device = 'cuda' if torch.cuda.is_available() else 'cpu'\n",
        "data = torch.load(checkpoint, map_location='cpu')\n",
        "\n",
        "model_name = 'roberta-large' #if data['args']['large'] else 'roberta-base'\n",
        "#model_name = 'roberta-base'\n",
        "model = RobertaForSequenceClassification.from_pretrained(model_name)\n",
        "tokenizer = RobertaTokenizer.from_pretrained(model_name)\n",
        "roberta_model = model.to('cpu')\n",
        "roberta_model.load_state_dict(data['model_state_dict'], strict=False)\n",
        "roberta_model.eval()"
      ],
      "metadata": {
        "colab": {
          "base_uri": "https://localhost:8080/",
          "height": 1000,
          "referenced_widgets": [
            "6d5b86be22804a709bea5934dc9a9054",
            "1a96132e32a345a4afd14a2d71b11338",
            "332c367f3a4440bab29456d28de46de6",
            "81dcb0badf6d4d1ab2b55c0a1fe637cd",
            "5b9fd41d4f934d9daa370079ff880476",
            "6c4215e408f5418884e8bf749e4655e4",
            "f886c55033cb4103982c3b4161e1cd67",
            "7210849448ff4ddfb50b001313771d08",
            "41222e19a6b9430a91a0c6ec5e202db3",
            "54145fa7965b434382d5f2d5f4b4c55c",
            "f82f11e2ed804dcaa548897f40cc4e9a",
            "d40c29711d8e4b70b46eaeb7d54424b6",
            "80e0e718c52743be844ce48d875a8d7d",
            "c6b9a2b1039c4cd885587a258d921bfb",
            "623bb74efda044b2ab044a1016104607",
            "9d621ba515bc4f48ae8add06f9263b24",
            "001f51abdce043fd8a1027600041e54d",
            "2be2e322107643efa033b1d2ce50669b",
            "c518a50cbb614b31bf66f2cc482285e5",
            "e4c29025b670405c8e5246f6c712d53a",
            "0b65365b58314bb7a6a67f790d1e245a",
            "b160f64cb44c421fa19c5a93c65b79e0",
            "2c0251b4059c482599958a7e5014cd5c",
            "de35f72c076e4957866df681a95444b5",
            "5df86baa619941378a40e7f0c6d7cfaf",
            "4e59dfb84af349d6a2fc46d5c6815228",
            "cba29157322746338373edb4f17d1c36",
            "cfb6cc20851049e5931967c706a5d3a0",
            "744492f621074fb0bcbea2177e21f246",
            "4b892246709c4ec38e4616b55cae5b8b",
            "b593ae3e16eb4220a39d00ba695a47cd",
            "7bd18262fca647698dc40165d3237fe5",
            "fbf13b0d7ec147b58589424949a322c7",
            "7810319527f94e2db7373c8b72cd917f",
            "39119e4bf14b42d58d7ef9e95bf463a6",
            "49034ba36e134c949beb009ff16156cf",
            "f9726016a6a9489e80acde3260f625ba",
            "f991bde197d94ebca3565c594ad2641e",
            "c84b3eecd90f42f8a835f6a3e619989c",
            "22a138dc0fae4567903f5ca99ca36503",
            "1835e58f88a94150a9f22ab5e2e72f81",
            "86f11e0ff56d4cf884514145e5b0c5c5",
            "d4059bc96f4a4642b40a1234a76295cd",
            "3d196d83e758433f90bf9cbd6f06cbfe"
          ]
        },
        "id": "cf_u4H7EdwYT",
        "outputId": "3e24f693-2e4e-4fc1-c18d-75c6c66ebe5d"
      },
      "execution_count": null,
      "outputs": [
        {
          "output_type": "display_data",
          "data": {
            "text/plain": [
              "Downloading (…)lve/main/config.json:   0%|          | 0.00/482 [00:00<?, ?B/s]"
            ],
            "application/vnd.jupyter.widget-view+json": {
              "version_major": 2,
              "version_minor": 0,
              "model_id": "6d5b86be22804a709bea5934dc9a9054"
            }
          },
          "metadata": {}
        },
        {
          "output_type": "display_data",
          "data": {
            "text/plain": [
              "Downloading model.safetensors:   0%|          | 0.00/1.42G [00:00<?, ?B/s]"
            ],
            "application/vnd.jupyter.widget-view+json": {
              "version_major": 2,
              "version_minor": 0,
              "model_id": "d40c29711d8e4b70b46eaeb7d54424b6"
            }
          },
          "metadata": {}
        },
        {
          "output_type": "stream",
          "name": "stderr",
          "text": [
            "Some weights of the model checkpoint at roberta-large were not used when initializing RobertaForSequenceClassification: ['lm_head.bias', 'lm_head.dense.weight', 'lm_head.layer_norm.bias', 'lm_head.layer_norm.weight', 'lm_head.dense.bias']\n",
            "- This IS expected if you are initializing RobertaForSequenceClassification from the checkpoint of a model trained on another task or with another architecture (e.g. initializing a BertForSequenceClassification model from a BertForPreTraining model).\n",
            "- This IS NOT expected if you are initializing RobertaForSequenceClassification from the checkpoint of a model that you expect to be exactly identical (initializing a BertForSequenceClassification model from a BertForSequenceClassification model).\n",
            "Some weights of RobertaForSequenceClassification were not initialized from the model checkpoint at roberta-large and are newly initialized: ['classifier.dense.weight', 'classifier.dense.bias', 'classifier.out_proj.weight', 'classifier.out_proj.bias']\n",
            "You should probably TRAIN this model on a down-stream task to be able to use it for predictions and inference.\n"
          ]
        },
        {
          "output_type": "display_data",
          "data": {
            "text/plain": [
              "Downloading (…)olve/main/vocab.json:   0%|          | 0.00/899k [00:00<?, ?B/s]"
            ],
            "application/vnd.jupyter.widget-view+json": {
              "version_major": 2,
              "version_minor": 0,
              "model_id": "2c0251b4059c482599958a7e5014cd5c"
            }
          },
          "metadata": {}
        },
        {
          "output_type": "display_data",
          "data": {
            "text/plain": [
              "Downloading (…)olve/main/merges.txt:   0%|          | 0.00/456k [00:00<?, ?B/s]"
            ],
            "application/vnd.jupyter.widget-view+json": {
              "version_major": 2,
              "version_minor": 0,
              "model_id": "7810319527f94e2db7373c8b72cd917f"
            }
          },
          "metadata": {}
        },
        {
          "output_type": "execute_result",
          "data": {
            "text/plain": [
              "RobertaForSequenceClassification(\n",
              "  (roberta): RobertaModel(\n",
              "    (embeddings): RobertaEmbeddings(\n",
              "      (word_embeddings): Embedding(50265, 1024, padding_idx=1)\n",
              "      (position_embeddings): Embedding(514, 1024, padding_idx=1)\n",
              "      (token_type_embeddings): Embedding(1, 1024)\n",
              "      (LayerNorm): LayerNorm((1024,), eps=1e-05, elementwise_affine=True)\n",
              "      (dropout): Dropout(p=0.1, inplace=False)\n",
              "    )\n",
              "    (encoder): RobertaEncoder(\n",
              "      (layer): ModuleList(\n",
              "        (0-23): 24 x RobertaLayer(\n",
              "          (attention): RobertaAttention(\n",
              "            (self): RobertaSelfAttention(\n",
              "              (query): Linear(in_features=1024, out_features=1024, bias=True)\n",
              "              (key): Linear(in_features=1024, out_features=1024, bias=True)\n",
              "              (value): Linear(in_features=1024, out_features=1024, bias=True)\n",
              "              (dropout): Dropout(p=0.1, inplace=False)\n",
              "            )\n",
              "            (output): RobertaSelfOutput(\n",
              "              (dense): Linear(in_features=1024, out_features=1024, bias=True)\n",
              "              (LayerNorm): LayerNorm((1024,), eps=1e-05, elementwise_affine=True)\n",
              "              (dropout): Dropout(p=0.1, inplace=False)\n",
              "            )\n",
              "          )\n",
              "          (intermediate): RobertaIntermediate(\n",
              "            (dense): Linear(in_features=1024, out_features=4096, bias=True)\n",
              "            (intermediate_act_fn): GELUActivation()\n",
              "          )\n",
              "          (output): RobertaOutput(\n",
              "            (dense): Linear(in_features=4096, out_features=1024, bias=True)\n",
              "            (LayerNorm): LayerNorm((1024,), eps=1e-05, elementwise_affine=True)\n",
              "            (dropout): Dropout(p=0.1, inplace=False)\n",
              "          )\n",
              "        )\n",
              "      )\n",
              "    )\n",
              "  )\n",
              "  (classifier): RobertaClassificationHead(\n",
              "    (dense): Linear(in_features=1024, out_features=1024, bias=True)\n",
              "    (dropout): Dropout(p=0.1, inplace=False)\n",
              "    (out_proj): Linear(in_features=1024, out_features=2, bias=True)\n",
              "  )\n",
              ")"
            ]
          },
          "metadata": {},
          "execution_count": 4
        }
      ]
    },
    {
      "cell_type": "code",
      "source": [
        "query = \"\"\"Write a list of the names of video games that have been released over the last 10 years.\n",
        "\n",
        "In the above paragraph, you can see that I know nothing about “the last 10 years” except the fact that they are over 10 years. Please also note that I put in a space next to my name to indicate that I know nothing about the last 10 years, since that is the only information I had to work with.\n",
        "\n",
        "The output I obtained looked like:\n",
        "\n",
        "My challenge was to make a program that could generate a list of all the names of all video games that have been released in the last 10 years.\n",
        "\n",
        "If you have a basic understanding of VB.NET as well as the following:\n",
        "\n",
        "There is a “File” module. You can add a file by navigating to the module, and doing File.Add(\"filename\")\n",
        "\n",
        "Then, add an “Instance” attribute. You can add an instance of an object based on a given filename by navigating to the module, and doing Instance.Add(filename)\n",
        "\n",
        "Once there, you can navigate to the module, and do Module.GetType(\"instance\"). It will print out all the type names. The class names should be in the “Implements” section.\"\"\"\n",
        "\n",
        "print(query)"
      ],
      "metadata": {
        "colab": {
          "base_uri": "https://localhost:8080/"
        },
        "id": "pafWaIu2dwbQ",
        "outputId": "6be2bde2-90dc-43b2-a269-c3ad1b34dac8"
      },
      "execution_count": null,
      "outputs": [
        {
          "output_type": "stream",
          "name": "stdout",
          "text": [
            "Write a list of the names of video games that have been released over the last 10 years.\n",
            "\n",
            "In the above paragraph, you can see that I know nothing about “the last 10 years” except the fact that they are over 10 years. Please also note that I put in a space next to my name to indicate that I know nothing about the last 10 years, since that is the only information I had to work with.\n",
            "\n",
            "The output I obtained looked like:\n",
            "\n",
            "My challenge was to make a program that could generate a list of all the names of all video games that have been released in the last 10 years.\n",
            "\n",
            "If you have a basic understanding of VB.NET as well as the following:\n",
            "\n",
            "There is a “File” module. You can add a file by navigating to the module, and doing File.Add(\"filename\")\n",
            "\n",
            "Then, add an “Instance” attribute. You can add an instance of an object based on a given filename by navigating to the module, and doing Instance.Add(filename)\n",
            "\n",
            "Once there, you can navigate to the module, and do Module.GetType(\"instance\"). It will print out all the type names. The class names should be in the “Implements” section.\n"
          ]
        }
      ]
    },
    {
      "cell_type": "code",
      "source": [
        "query = \"\"\"The last business trip  I drove to San Francisco  I went to Hertz Rentals and got a 1999 Ford Taurus  thinking it looked comfortable and professional  I found the seating to be uncomfortable for myself  as well as for my passenger Now  seating comfort may not be important to you  but it is to me The fuel usage was fine  the car did get us there with no problems  but  it was such an uncomfortable ride for both of us  It is not as though I am hard to fit into a car  I am 5 5  weigh 115 pounds  and I am usually quite comfortable in most any car  But  the Taurus seemed especially uncomfortable  For anyone who is thinking of renting a car for a long trip  I would suggest that the Ford Taurus  1999  not be on the list of  be sure to get this There was a large trunk that allowed us to pack a lot of materials needed for the business end of the trip  Driving it was a breeze  and everything  worked  right  I have no complaints about the standard making of the car  except in the comfort area  How important is comfort to you  On a long trip  being an uncomfortable driver is distracting to me  and it made the trip seem unnecessarily longer than it should have felt  I make this trip a lot  The Saturn would have been a better choice for me  as I have rented this model quite often  It offers comforts that the Taurus simply does not have If you are planning a long trip  or to buy a car that you intend to be comfortably seated in  check out the Taurus on a longer trial basis than you might another car  You may find the same thing happening to your comfort\"\"\"\n",
        "query"
      ],
      "metadata": {
        "id": "2mE_bkPzqlb2",
        "colab": {
          "base_uri": "https://localhost:8080/",
          "height": 140
        },
        "outputId": "84de59b4-4dc2-441d-b88a-ed337c0a2e81"
      },
      "execution_count": null,
      "outputs": [
        {
          "output_type": "execute_result",
          "data": {
            "text/plain": [
              "'The last business trip  I drove to San Francisco  I went to Hertz Rentals and got a 1999 Ford Taurus  thinking it looked comfortable and professional  I found the seating to be uncomfortable for myself  as well as for my passenger Now  seating comfort may not be important to you  but it is to me The fuel usage was fine  the car did get us there with no problems  but  it was such an uncomfortable ride for both of us  It is not as though I am hard to fit into a car  I am 5 5  weigh 115 pounds  and I am usually quite comfortable in most any car  But  the Taurus seemed especially uncomfortable  For anyone who is thinking of renting a car for a long trip  I would suggest that the Ford Taurus  1999  not be on the list of  be sure to get this There was a large trunk that allowed us to pack a lot of materials needed for the business end of the trip  Driving it was a breeze  and everything  worked  right  I have no complaints about the standard making of the car  except in the comfort area  How important is comfort to you  On a long trip  being an uncomfortable driver is distracting to me  and it made the trip seem unnecessarily longer than it should have felt  I make this trip a lot  The Saturn would have been a better choice for me  as I have rented this model quite often  It offers comforts that the Taurus simply does not have If you are planning a long trip  or to buy a car that you intend to be comfortably seated in  check out the Taurus on a longer trial basis than you might another car  You may find the same thing happening to your comfort'"
            ],
            "application/vnd.google.colaboratory.intrinsic+json": {
              "type": "string"
            }
          },
          "metadata": {},
          "execution_count": 6
        }
      ]
    },
    {
      "cell_type": "markdown",
      "source": [
        "# **Converting the model to ONNX format for optimizing the model**"
      ],
      "metadata": {
        "id": "L9oVgsC2TKjy"
      }
    },
    {
      "cell_type": "code",
      "source": [],
      "metadata": {
        "id": "pLHpLE4SeMH5"
      },
      "execution_count": null,
      "outputs": []
    },
    {
      "cell_type": "code",
      "source": [
        "# tokenizer = RobertaTokenizer.from_pretrained('roberta-large')\n",
        "input_ids = torch.tensor(tokenizer.encode(query, add_special_tokens=True)).unsqueeze(0)  # Batch size 1\n",
        "os.makedirs('/content/gpt2-detector/', exist_ok=True)\n",
        "ONNX_path = \"/content/gpt2-detector/roberta_detector.onnx\"\n",
        "torch.onnx.export(roberta_model,\n",
        "                  (input_ids),\n",
        "                  ONNX_path,\n",
        "                  input_names=['input'],\n",
        "                  output_names=['output'],\n",
        "                  dynamic_axes={'input' :{0 : 'batch_size',\n",
        "                                          1: 'sentence_length'},\n",
        "                                'output': {0: 'batch_size'}})"
      ],
      "metadata": {
        "colab": {
          "base_uri": "https://localhost:8080/"
        },
        "id": "JdH-5ogzSyPo",
        "outputId": "1c711878-c1e6-4093-9911-6992c561e1fd"
      },
      "execution_count": null,
      "outputs": [
        {
          "output_type": "stream",
          "name": "stdout",
          "text": [
            "============= Diagnostic Run torch.onnx.export version 2.0.1+cu118 =============\n",
            "verbose: False, log level: Level.ERROR\n",
            "======================= 0 NONE 0 NOTE 0 WARNING 0 ERROR ========================\n",
            "\n"
          ]
        }
      ]
    },
    {
      "cell_type": "markdown",
      "source": [
        "# **Function to get the output whether the text is generated by human or not.**"
      ],
      "metadata": {
        "id": "w7-2OPIUqlwb"
      }
    },
    {
      "cell_type": "code",
      "source": [
        "def to_numpy(tensor):\n",
        "    return tensor.detach().cpu().numpy() if tensor.requires_grad else tensor.cpu().numpy()\n",
        "\n",
        "# correct solution:\n",
        "def softmax(x):\n",
        "    \"\"\"Compute softmax values for each sets of scores in x.\"\"\"\n",
        "    e_x = np.exp(x - np.max(x))\n",
        "    return e_x / e_x.sum(axis=-1) # only difference"
      ],
      "metadata": {
        "id": "Zy_hfeKjT4Ig"
      },
      "execution_count": null,
      "outputs": []
    },
    {
      "cell_type": "code",
      "source": [
        "def gpt_detector(query, onnx_path= ONNX_path):\n",
        "    # if model_format == 'roberta-onnx':\n",
        "    start = time.time()\n",
        "    total_words = len(query.split())\n",
        "    model_name = 'roberta-large'\n",
        "    tokenizer = RobertaTokenizer.from_pretrained(model_name)\n",
        "    ort_session = onnxruntime.InferenceSession(onnx_path)\n",
        "    tokens_onnx = tokenizer.encode(query)\n",
        "    all_tokens = len(tokens_onnx)\n",
        "    tokens_onnx = tokens_onnx[:tokenizer.model_max_length - 2]\n",
        "    used_tokens = len(tokens_onnx)\n",
        "    input_ids_o = torch.tensor([tokenizer.bos_token_id] + tokens_onnx + [tokenizer.eos_token_id]).unsqueeze(0)\n",
        "    mask = torch.ones_like(input_ids_o)\n",
        "\n",
        "\n",
        "    # input_ids_o = torch.tensor().unsqueeze(0)  # Batch size 1\n",
        "    # compute ONNX Runtime output prediction\n",
        "    # ort_inputs = {ort_session.get_inputs()[0].name: to_numpy(input_ids_o)}\n",
        "    # ort_out = ort_session.run(None, ort_inputs)\n",
        "    with torch.no_grad():\n",
        "        ort_inputs = {ort_session.get_inputs()[0].name: to_numpy(input_ids_o)}\n",
        "        logits_onnx = ort_session.run(None, ort_inputs)\n",
        "        # logits = model(tokens.to(device), attention_mask=mask.to(device))[0]\n",
        "        probs_onnx = softmax(logits_onnx[0])\n",
        "        end = time.time()\n",
        "    total_time = np.round(end - start, decimals=2)\n",
        "    fake_onnx, real_onnx = probs_onnx[0][0], probs_onnx[0][1]\n",
        "    fake_onnx = np.round(fake_onnx*100, decimals=2)\n",
        "    real_onnx = np.round(real_onnx*100, decimals=2)\n",
        "    return fake_onnx, real_onnx\n",
        "\n",
        "\n"
      ],
      "metadata": {
        "id": "rI7CDt4uTgS3"
      },
      "execution_count": null,
      "outputs": []
    },
    {
      "cell_type": "markdown",
      "source": [
        "#### **Description that will appear on Gradio UI.**"
      ],
      "metadata": {
        "id": "K4_xfXqR1gb2"
      }
    },
    {
      "cell_type": "code",
      "source": [
        "ui_description = \"Optimizing the GPT-2 Output Detector to the ONNX format is a significant achievement as it allows for improved efficiency, portability, and interoperability of the model. The ONNX format is a popular open standard for representing deep learning models, enabling seamless integration with various AI frameworks and deployment platforms. The purpose of the GPT-2 Output Detector is to identify and filter out problematic outputs generated by the GPT-2 model. This project typically involves fine-tuning the GPT-2 model using techniques like transfer learning or domain-specific training data to make it more reliable and suitable for specific applications or domains.\""
      ],
      "metadata": {
        "id": "XTtWrwOCyfvU"
      },
      "execution_count": null,
      "outputs": []
    },
    {
      "cell_type": "code",
      "source": [],
      "metadata": {
        "id": "3ETKXmhx1oDt"
      },
      "execution_count": null,
      "outputs": []
    },
    {
      "cell_type": "markdown",
      "source": [
        "### **Creating a UI with the help of gradio**\n",
        "\n",
        "#### **To know more about gradio:**\n",
        "### **Set debug=True in gpt2_plag(debug=True) for getting runtime error**\n",
        "#### https://gradio.app/"
      ],
      "metadata": {
        "id": "64uJ-o2D1omC"
      }
    },
    {
      "cell_type": "code",
      "source": [],
      "metadata": {
        "id": "mqkj2mv_fAKA"
      },
      "execution_count": null,
      "outputs": []
    },
    {
      "cell_type": "code",
      "source": [
        "# from keras.backend import placeholder\n",
        "app_inputs = [gr.inputs.Textbox(lines=15, placeholder='Input some text...')]\n",
        "gpt2_plag = gr.Interface(fn= gpt_detector, inputs=app_inputs, outputs=[gr.outputs.Textbox(label='Fake Weightage'), gr.outputs.Textbox(label='Real Weightage')],\n",
        "                         title= 'GPT-2 Output Detector', description=ui_description)\n",
        "gpt2_plag.launch(debug=True, share=True)"
      ],
      "metadata": {
        "colab": {
          "base_uri": "https://localhost:8080/",
          "height": 767
        },
        "id": "xycaffGKdwis",
        "outputId": "e3719473-ac30-4126-a2ac-1bb28c690969"
      },
      "execution_count": null,
      "outputs": [
        {
          "output_type": "stream",
          "name": "stderr",
          "text": [
            "<ipython-input-12-9203ff14d55f>:2: GradioDeprecationWarning: Usage of gradio.inputs is deprecated, and will not be supported in the future, please import your component from gradio.components\n",
            "  app_inputs = [gr.inputs.Textbox(lines=15, placeholder='Input some text...')]\n",
            "<ipython-input-12-9203ff14d55f>:2: GradioDeprecationWarning: `optional` parameter is deprecated, and it has no effect\n",
            "  app_inputs = [gr.inputs.Textbox(lines=15, placeholder='Input some text...')]\n",
            "<ipython-input-12-9203ff14d55f>:2: GradioDeprecationWarning: `numeric` parameter is deprecated, and it has no effect\n",
            "  app_inputs = [gr.inputs.Textbox(lines=15, placeholder='Input some text...')]\n",
            "<ipython-input-12-9203ff14d55f>:3: GradioDeprecationWarning: Usage of gradio.outputs is deprecated, and will not be supported in the future, please import your components from gradio.components\n",
            "  gpt2_plag = gr.Interface(fn= gpt_detector, inputs=app_inputs, outputs=[gr.outputs.Textbox(label='Fake Weightage'), gr.outputs.Textbox(label='Real Weightage')],\n"
          ]
        },
        {
          "output_type": "stream",
          "name": "stdout",
          "text": [
            "Colab notebook detected. This cell will run indefinitely so that you can see errors and logs. To turn off, set debug=False in launch().\n",
            "Running on public URL: https://38a7f7dd811e4b86fe.gradio.live\n",
            "\n",
            "This share link expires in 72 hours. For free permanent hosting and GPU upgrades, run `gradio deploy` from Terminal to deploy to Spaces (https://huggingface.co/spaces)\n"
          ]
        },
        {
          "output_type": "display_data",
          "data": {
            "text/plain": [
              "<IPython.core.display.HTML object>"
            ],
            "text/html": [
              "<div><iframe src=\"https://38a7f7dd811e4b86fe.gradio.live\" width=\"100%\" height=\"500\" allow=\"autoplay; camera; microphone; clipboard-read; clipboard-write;\" frameborder=\"0\" allowfullscreen></iframe></div>"
            ]
          },
          "metadata": {}
        },
        {
          "output_type": "stream",
          "name": "stderr",
          "text": [
            "Token indices sequence length is longer than the specified maximum sequence length for this model (645 > 512). Running this sequence through the model will result in indexing errors\n"
          ]
        }
      ]
    },
    {
      "cell_type": "code",
      "source": [],
      "metadata": {
        "id": "d_mKe-2qdwqZ"
      },
      "execution_count": null,
      "outputs": []
    },
    {
      "cell_type": "code",
      "source": [],
      "metadata": {
        "id": "P2FaSSYrdwtW"
      },
      "execution_count": null,
      "outputs": []
    },
    {
      "cell_type": "code",
      "source": [],
      "metadata": {
        "id": "-5UFaYq5dww6"
      },
      "execution_count": null,
      "outputs": []
    },
    {
      "cell_type": "code",
      "source": [],
      "metadata": {
        "id": "ljG_MeZNdw0F"
      },
      "execution_count": null,
      "outputs": []
    },
    {
      "cell_type": "code",
      "source": [],
      "metadata": {
        "id": "0F0qlAtGdw3v"
      },
      "execution_count": null,
      "outputs": []
    }
  ]
}